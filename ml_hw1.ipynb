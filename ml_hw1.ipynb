{
 "cells": [
  {
   "cell_type": "code",
   "execution_count": 1,
   "metadata": {},
   "outputs": [],
   "source": [
    "import numpy as np\n",
    "import matplotlib.pyplot as plt\n",
    "import random\n",
    "import math\n",
    "from numpy.linalg import inv\n",
    "\n",
    "%matplotlib inline"
   ]
  },
  {
   "cell_type": "markdown",
   "metadata": {},
   "source": [
    "Data Generation\n",
    "---"
   ]
  },
  {
   "cell_type": "markdown",
   "metadata": {},
   "source": [
    "Split Training & Testing Data\n",
    "---"
   ]
  },
  {
   "cell_type": "code",
   "execution_count": 279,
   "metadata": {
    "scrolled": true
   },
   "outputs": [
    {
     "data": {
      "image/png": "[encoded data removed]",
      "text/plain": [
       "<Figure size 432x288 with 1 Axes>"
      ]
     },
     "metadata": {
      "needs_background": "light"
     },
     "output_type": "display_data"
    }
   ],
   "source": [
    "def gen_data(nsamp=40,noise_stdev=0.1,seed=0):\n",
    "    \n",
    "    random.seed(seed)\n",
    "    x = np.arange(0, 2*np.pi, 2*np.pi/nsamp)\n",
    "    t = []\n",
    "    for val in x:\n",
    "        t.append(np.sin(val) + random.gauss(0,noise_stdev))\n",
    "    t = np.asarray(t)\n",
    "    \n",
    "    return x,t\n",
    "\n",
    "def split_data(x,t,training_size=0.8):\n",
    "\n",
    "    #Identifies indices to split data by\n",
    "    data_index = np.arange(len(t))\n",
    "    random.shuffle(data_index)\n",
    "    training_index = data_index[:int(training_size*len(t))]\n",
    "    testing_index = data_index[int(training_size*len(t)):]\n",
    "\n",
    "    #Splits data into train/test sets\n",
    "    training_x = x[training_index]\n",
    "    training_t = t[training_index]\n",
    "    testing_x = x[testing_index]\n",
    "    testing_t = t[testing_index]\n",
    "    \n",
    "    #sort by x\n",
    "    p = training_x.argsort()\n",
    "    training_x = training_x[p]\n",
    "    training_t = training_t[p]\n",
    "    p = testing_x.argsort()\n",
    "    testing_x = testing_x[p]\n",
    "    testing_t = testing_t[p]\n",
    "    \n",
    "    return training_x,training_t,testing_x,testing_t\n",
    "\n",
    "\n",
    "x,t = gen_data()\n",
    "plt.plot(x,t)\n",
    "\n",
    "training_x,training_t,testing_x,testing_t = split_data(x,t)\n",
    "\n",
    "# Shows random distribution of training/testing data\n",
    "plt.scatter(training_x, training_t,color='blue')\n",
    "plt.scatter(testing_x, testing_t,color='red')\n",
    "plt.show()"
   ]
  },
  {
   "cell_type": "markdown",
   "metadata": {},
   "source": [
    "Coefficient Weights (1a)\n",
    "---"
   ]
  },
  {
   "cell_type": "code",
   "execution_count": 280,
   "metadata": {},
   "outputs": [
    {
     "name": "stdout",
     "output_type": "stream",
     "text": [
      "[[-0.32330619]\n",
      " [ 2.04504154]\n",
      " [-0.92497593]\n",
      " [ 0.0976409 ]]\n"
     ]
    }
   ],
   "source": [
    "#phi = [ x1^0 ... x1^(m-1) ]\n",
    "#        ...\n",
    "#        xn^0 ... xn^(m-1)\n",
    "\n",
    "def make_phi(m,training_x):\n",
    "    \n",
    "    list_phi = []\n",
    "    for sample in range(len(training_x)):\n",
    "        temp = []\n",
    "        for coeff in range(m+1):\n",
    "            temp.append(training_x[sample] ** coeff)\n",
    "        list_phi.append(temp)\n",
    "    \n",
    "    return np.asmatrix(list_phi)\n",
    "\n",
    "\n",
    "def solve_w(phi,training_t):\n",
    "\n",
    "    w = np.dot(inv(phi.T * phi), np.dot(phi.T, np.asarray(training_t)).T)\n",
    "    return w\n",
    "\n",
    "m = 3\n",
    "phi = make_phi(m,training_x)\n",
    "w = solve_w(phi,training_t)\n",
    "w_copy = w\n",
    "print(w)"
   ]
  },
  {
   "cell_type": "markdown",
   "metadata": {},
   "source": [
    "Predicted t (1b)\n",
    "---"
   ]
  },
  {
   "cell_type": "code",
   "execution_count": 281,
   "metadata": {},
   "outputs": [
    {
     "data": {
      "image/png": "[encoded data removed]",
      "text/plain": [
       "<Figure size 432x288 with 1 Axes>"
      ]
     },
     "metadata": {
      "needs_background": "light"
     },
     "output_type": "display_data"
    }
   ],
   "source": [
    "#f(x,w) = w0 + w1x + w2x^2 + ... + wmx^(m-1)\n",
    "# y = 0->m SUM(wjx^j)\n",
    "\n",
    "def predict_value(x_query, w):\n",
    "    \n",
    "    y = 0\n",
    "    for coeff in range(len(w)):\n",
    "        y += w[coeff] * (x_query ** coeff)\n",
    "        #print(w[coeff][0,0],'*',(x_query ** coeff),'+ ',end='')\n",
    "\n",
    "    return float(y)\n",
    "\n",
    "\n",
    "def batch_predict(testing_x, w):\n",
    "\n",
    "    t_pred = []\n",
    "    for i in testing_x:\n",
    "        t_pred.append(predict_value(i, w))\n",
    "\n",
    "    return np.asarray(t_pred)\n",
    "\n",
    "\n",
    "def plot_predictions(testing_x, testing_t, t_pred):\n",
    "\n",
    "    plt.scatter(testing_x, testing_t,color='blue',label='Ground Truth')\n",
    "    plt.scatter(testing_x, t_pred,color='red',label='Prediction')\n",
    "    plt.legend()\n",
    "    plt.ylabel('F(x)')\n",
    "    plt.xlabel('x')\n",
    "    plt.show()\n",
    "    \n",
    "t_pred = batch_predict(training_x, w)\n",
    "plot_predictions(training_x, training_t, t_pred)"
   ]
  },
  {
   "cell_type": "markdown",
   "metadata": {},
   "source": [
    "Root-Mean-Square (RMS) Error (1c)\n",
    "---"
   ]
  },
  {
   "cell_type": "code",
   "execution_count": 282,
   "metadata": {},
   "outputs": [
    {
     "name": "stdout",
     "output_type": "stream",
     "text": [
      "SOS Error: 3.0642051070779646\n",
      "RMS Error: 0.8752435528294346\n"
     ]
    }
   ],
   "source": [
    "# Sum of Squares Error\n",
    "# E(w) = 1/2 (phi * w - t).T * (phi * w - t)\n",
    "\n",
    "def calculate_sos_error(testing_t, t_pred):\n",
    "    \n",
    "    E = 0\n",
    "    for i in range(len(testing_t)):\n",
    "        E = E + (t_pred[i] - testing_t[i]) ** 2\n",
    "        \n",
    "    return E/2\n",
    "\n",
    "\n",
    "# Root-Mean-Square (RMS) Error\n",
    "# Erms = sqrt(2E(w*)/N)\n",
    "\n",
    "def calculate_rms_error(testing_t, t_pred):\n",
    "    \n",
    "    E = calculate_sos_error(testing_t, t_pred)\n",
    "    rms = math.sqrt(2 * E/len(testing_t))\n",
    "    return rms\n",
    "\n",
    "print(\"SOS Error:\",calculate_sos_error(testing_t, t_pred))\n",
    "print(\"RMS Error:\",calculate_rms_error(testing_t, t_pred))"
   ]
  },
  {
   "cell_type": "markdown",
   "metadata": {},
   "source": [
    "Decreasing E(w) with Batch Gradient Descent (2a/b)\n",
    "---"
   ]
  },
  {
   "cell_type": "code",
   "execution_count": 283,
   "metadata": {},
   "outputs": [],
   "source": [
    "def gradient_descent_update(training_x, training_t, phi, w, learning_rate):\n",
    "    \n",
    "    error_flag = False\n",
    "    error_sum = 0\n",
    "    total = np.zeros((len(w),1))\n",
    "    for sample in range(len(training_x)):\n",
    "        \n",
    "        dif = predict_value(training_x[sample], w) - training_t[sample]\n",
    "        total += dif * phi[sample].T\n",
    "        error_sum += dif\n",
    "        \n",
    "    #if error_sum < 10**-100:\n",
    "        #error_flag = True\n",
    "            \n",
    "    return w - learning_rate * total, error_flag\n",
    "\n",
    "def iterative_grad_descent(training_x, training_t, phi, w, niterations=3000000, learning_rate=4*10**-7):\n",
    "    \n",
    "    rms_error = []\n",
    "    for iter in range(niterations):\n",
    "        w,error_flag = gradient_descent_update(training_x, training_t, phi, w, learning_rate)\n",
    "        t_pred = batch_predict(testing_x, w)\n",
    "        rms_error.append(calculate_rms_error(testing_t, t_pred))\n",
    "        \n",
    "        if error_flag is True:\n",
    "            break\n",
    "    \n",
    "    return w,rms_error"
   ]
  },
  {
   "cell_type": "code",
   "execution_count": 284,
   "metadata": {},
   "outputs": [
    {
     "data": {
      "image/png": "[encoded data removed]",
      "text/plain": [
       "<Figure size 432x288 with 1 Axes>"
      ]
     },
     "metadata": {
      "needs_background": "light"
     },
     "output_type": "display_data"
    },
    {
     "name": "stdout",
     "output_type": "stream",
     "text": [
      "W:\n",
      "[[ 0.18110206]\n",
      " [ 1.30253145]\n",
      " [-0.66817211]\n",
      " [ 0.07266579]]\n"
     ]
    }
   ],
   "source": [
    "w = np.random.rand(m+1,1)\n",
    "#w = solve_w(phi,training_t)\n",
    "phi = make_phi(m,training_x)\n",
    "w,rms_error = iterative_grad_descent(training_x, training_t, phi, w)\n",
    "\n",
    "plt.plot(rms_error)\n",
    "plt.ylabel('RMS Error')\n",
    "plt.xlabel('Iterations')\n",
    "plt.show()\n",
    "print('W:')\n",
    "print(w)"
   ]
  },
  {
   "cell_type": "markdown",
   "metadata": {},
   "source": [
    "# Prediction with BGD (2c/d/e)\n",
    "---"
   ]
  },
  {
   "cell_type": "code",
   "execution_count": 286,
   "metadata": {
    "scrolled": false
   },
   "outputs": [
    {
     "data": {
      "image/png": "[encoded data removed]",
      "text/plain": [
       "<Figure size 432x288 with 1 Axes>"
      ]
     },
     "metadata": {
      "needs_background": "light"
     },
     "output_type": "display_data"
    },
    {
     "name": "stdout",
     "output_type": "stream",
     "text": [
      "Gradient Descent W:\n",
      " [[ 0.18110206]\n",
      " [ 1.30253145]\n",
      " [-0.66817211]\n",
      " [ 0.07266579]]\n",
      "\n",
      "One-Step W:\n",
      " [[-0.32330619]\n",
      " [ 2.04504154]\n",
      " [-0.92497593]\n",
      " [ 0.0976409 ]]\n",
      "\n",
      "Testing RMS Error: 2.816948450925067\n"
     ]
    }
   ],
   "source": [
    "t_pred = batch_predict(testing_x, w)\n",
    "plot_predictions(testing_x, testing_t, t_pred)\n",
    "\n",
    "print(\"Gradient Descent W:\\n\", w)\n",
    "\n",
    "print(\"\\nOne-Step W:\\n\",w_copy) #2e, They're the same before and after BGD\n",
    "\n",
    "print(\"\\nTesting RMS Error:\",calculate_rms_error(testing_x, t_pred))"
   ]
  },
  {
   "cell_type": "markdown",
   "metadata": {},
   "source": [
    "Task 3 (a/b)\n",
    "---"
   ]
  },
  {
   "cell_type": "code",
   "execution_count": 482,
   "metadata": {
    "scrolled": true
   },
   "outputs": [
    {
     "name": "stdout",
     "output_type": "stream",
     "text": [
      "Un-Regularized W\n",
      "[[-9.61537852e+00]\n",
      " [ 3.02656250e+01]\n",
      " [-2.35937500e+01]\n",
      " [ 2.90234375e+00]\n",
      " [-6.99218750e-01]\n",
      " [ 8.35937500e-01]\n",
      " [-9.28955078e-02]\n",
      " [ 6.59179688e-03]\n",
      " [-9.94873047e-03]\n",
      " [ 5.34057617e-04]\n",
      " [ 4.76837158e-05]\n",
      " [ 3.02791595e-05]]\n",
      "\n",
      "RMS Training Error: 6.407699131367491\n",
      "\n",
      "RMS Testing Error: 1039.7269808729584\n"
     ]
    }
   ],
   "source": [
    "m = 11\n",
    "\n",
    "x,t = gen_data(nsamp=10,noise_stdev=0.1,seed=7)\n",
    "training_x,training_t,testing_x,testing_t = split_data(x,t,training_size=0.5)\n",
    "\n",
    "phi = make_phi(m,training_x)\n",
    "w = solve_w(phi,training_t)\n",
    "\n",
    "print(\"Un-Regularized W\")\n",
    "print(w)\n",
    "\n",
    "t_pred = batch_predict(training_x, w)\n",
    "print(\"\\nRMS Training Error:\",calculate_rms_error(training_t, t_pred))\n",
    "\n",
    "t_pred = batch_predict(testing_x, w)\n",
    "print(\"\\nRMS Testing Error:\",calculate_rms_error(testing_t, t_pred))"
   ]
  },
  {
   "cell_type": "markdown",
   "metadata": {},
   "source": [
    "3a) Overfitting is occuring when there is a high ratio of coefficients (m) to samples, which leads to a complex high order regression model with very high W values. This occurs because the model too closely follows the exact location of the training data."
   ]
  },
  {
   "cell_type": "markdown",
   "metadata": {},
   "source": [
    "Regularization Task 4\n",
    "---"
   ]
  },
  {
   "cell_type": "code",
   "execution_count": 483,
   "metadata": {
    "scrolled": false
   },
   "outputs": [
    {
     "name": "stdout",
     "output_type": "stream",
     "text": [
      "Regularized W{\n",
      "26.90896     -19.07104     8.0795     -2.17981     0.491     0.09763     -0.16565     0.01511     0.01205     -0.00024     -0.00089     0.00011     \n",
      "}\n"
     ]
    }
   ],
   "source": [
    "def regularized_w(m,phi,training_t,lambda_val):\n",
    "    \n",
    "    term1 = inv(phi.T * phi + lambda_val * np.identity(m+1))\n",
    "    term2 = np.dot(phi.T, np.asarray(training_t)).T\n",
    "\n",
    "    return term1 * term2\n",
    "\n",
    "lambda_val = math.e**-18\n",
    "w = regularized_w(m,phi,training_t,lambda_val)\n",
    "\n",
    "print(\"Regularized W{\")\n",
    "for el in range(len(w)):\n",
    "    print(round(w[el][0,0],5),'    ',end='')\n",
    "print(\"\\n}\")"
   ]
  },
  {
   "cell_type": "code",
   "execution_count": 485,
   "metadata": {
    "scrolled": true
   },
   "outputs": [
    {
     "data": {
      "image/png": "[encoded data removed]",
      "text/plain": [
       "<Figure size 432x288 with 1 Axes>"
      ]
     },
     "metadata": {
      "needs_background": "light"
     },
     "output_type": "display_data"
    },
    {
     "name": "stdout",
     "output_type": "stream",
     "text": [
      "\n",
      "RMS Training Error: 1.4160976944996952\n",
      "\n",
      "RMS Testing Error: 491.65791112654915\n"
     ]
    }
   ],
   "source": [
    "train_errors = []\n",
    "test_errors = []\n",
    "lambdas = np.arange(-40,-20,0.5)\n",
    "\n",
    "for reg_term in lambdas:\n",
    "    \n",
    "    lambda_val = math.e**reg_term\n",
    "    w = regularized_w(m,phi,training_t,lambda_val)\n",
    "    \n",
    "    t_pred_train = batch_predict(training_x, w)\n",
    "    t_pred_test = batch_predict(testing_x, w)\n",
    "    \n",
    "    \n",
    "    train_errors.append(calculate_rms_error(training_t, t_pred_train))\n",
    "    test_errors.append(calculate_rms_error(testing_t, t_pred_test))\n",
    "    \n",
    "log_train_errors = []\n",
    "for el in train_errors:\n",
    "    log_train_errors.append(math.log(el))\n",
    "log_test_errors = []\n",
    "for el in test_errors:\n",
    "    log_test_errors.append(math.log(el))\n",
    "    \n",
    "plt.plot(lambdas, log_train_errors,color='blue',label='Training')\n",
    "plt.plot(lambdas, log_test_errors,color='red',label='Test')\n",
    "plt.ylabel('RMS Error')\n",
    "plt.xlabel('Lambda')\n",
    "plt.legend()\n",
    "plt.show()\n",
    "\n",
    "t_pred = batch_predict(training_x, w)\n",
    "print(\"\\nRMS Training Error:\",calculate_rms_error(training_t, t_pred))\n",
    "\n",
    "t_pred = batch_predict(testing_x, w)\n",
    "print(\"\\nRMS Testing Error:\",calculate_rms_error(testing_t, t_pred))"
   ]
  },
  {
   "cell_type": "markdown",
   "metadata": {},
   "source": [
    "4c) The coefficient of regularization brought the RMS error between the training and testing data much closer together, which indicates it removed some of the overfitting."
   ]
  },
  {
   "cell_type": "code",
   "execution_count": 486,
   "metadata": {
    "scrolled": true
   },
   "outputs": [
    {
     "data": {
      "text/plain": [
       "<matplotlib.collections.PathCollection at 0x7f82a532cd50>"
      ]
     },
     "execution_count": 486,
     "metadata": {},
     "output_type": "execute_result"
    },
    {
     "data": {
      "image/png": "[encoded data removed]",
      "text/plain": [
       "<Figure size 432x288 with 1 Axes>"
      ]
     },
     "metadata": {
      "needs_background": "light"
     },
     "output_type": "display_data"
    }
   ],
   "source": [
    "plt.scatter(testing_x,testing_t,color='blue')\n",
    "plt.scatter(testing_x,t_pred_test,color='red')"
   ]
  },
  {
   "cell_type": "code",
   "execution_count": 487,
   "metadata": {},
   "outputs": [
    {
     "data": {
      "text/plain": [
       "<matplotlib.collections.PathCollection at 0x7f82ccbb0a10>"
      ]
     },
     "execution_count": 487,
     "metadata": {},
     "output_type": "execute_result"
    },
    {
     "data": {
      "image/png": "[encoded data removed]",
      "text/plain": [
       "<Figure size 432x288 with 1 Axes>"
      ]
     },
     "metadata": {
      "needs_background": "light"
     },
     "output_type": "display_data"
    }
   ],
   "source": [
    "plt.scatter(training_x,training_t,color='blue')\n",
    "plt.scatter(training_x,t_pred_train,color='red')"
   ]
  },
  {
   "cell_type": "markdown",
   "metadata": {},
   "source": [
    "Extra Insight: I think the point of this homework was to make me realize how difficult it is to guess which parameters to use with linear regressions, whereas DNNs will save me from this hassle."
   ]
  },
  {
   "cell_type": "code",
   "execution_count": null,
   "metadata": {},
   "outputs": [],
   "source": []
  }
 ],
 "metadata": {
  "kernelspec": {
   "display_name": "Python 3",
   "language": "python",
   "name": "python3"
  },
  "language_info": {
   "codemirror_mode": {
    "name": "ipython",
    "version": 3
   },
   "file_extension": ".py",
   "mimetype": "text/x-python",
   "name": "python",
   "nbconvert_exporter": "python",
   "pygments_lexer": "ipython3",
   "version": "3.7.6"
  }
 },
 "nbformat": 4,
 "nbformat_minor": 4
}
